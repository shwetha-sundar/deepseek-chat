{
 "cells": [
  {
   "cell_type": "markdown",
   "metadata": {},
   "source": [
    "## DeepSeek R1\n",
    "Interacting with deepseek R1 model through Azure AI SDK"
   ]
  },
  {
   "cell_type": "markdown",
   "metadata": {},
   "source": [
    "### Environment Setup"
   ]
  },
  {
   "cell_type": "code",
   "execution_count": 1,
   "metadata": {},
   "outputs": [],
   "source": [
    "# Importing required packages\n",
    "import streamlit as st\n",
    "from azure.ai.inference import ChatCompletionsClient\n",
    "from azure.ai.inference.models import SystemMessage, UserMessage\n",
    "from azure.core.credentials import AzureKeyCredential"
   ]
  },
  {
   "cell_type": "code",
   "execution_count": 2,
   "metadata": {},
   "outputs": [],
   "source": [
    "# Defining model's endpoint and Azure credentials\n",
    "endpoint = st.secrets[\"endpoint\"]\n",
    "model_name = st.secrets[\"model_name\"]\n",
    "token = st.secrets[\"token\"]\n",
    "\n",
    "Az_Credential = AzureKeyCredential(token)"
   ]
  },
  {
   "cell_type": "code",
   "execution_count": 10,
   "metadata": {},
   "outputs": [],
   "source": [
    "# Defining system and user messages\n",
    "System_Message = SystemMessage(\n",
    "    content = \"You are a helpful assistant skilled in solving logic puzzles.\"\n",
    ")\n",
    "\n",
    "User_Message = UserMessage(\n",
    "    content = \"What is the solution to the following logic puzzle? You have a 3-gallon jug and a 5-gallon jug. How do you measure exactly 4 gallons of water?\"\n",
    ")"
   ]
  },
  {
   "cell_type": "code",
   "execution_count": 11,
   "metadata": {},
   "outputs": [],
   "source": [
    "# Helper function to print streaming chat completion\n",
    "def print_stream(result):\n",
    "    for update in result:\n",
    "        if update.choices:\n",
    "            print(update.choices[0].delta.content, end=\"\", flush=True)"
   ]
  },
  {
   "cell_type": "markdown",
   "metadata": {},
   "source": [
    "### DeepSeek R1 Model"
   ]
  },
  {
   "cell_type": "code",
   "execution_count": 12,
   "metadata": {},
   "outputs": [],
   "source": [
    "# Initiating Azure AI Foundry client\n",
    "client = ChatCompletionsClient(\n",
    "    endpoint=endpoint,\n",
    "    credential=AzureKeyCredential(token),\n",
    ")"
   ]
  },
  {
   "cell_type": "code",
   "execution_count": 13,
   "metadata": {},
   "outputs": [
    {
     "name": "stdout",
     "output_type": "stream",
     "text": [
      "Model name: deepseek-r1\n",
      "Model type: chat-completion\n",
      "Model provider name: DeepSeek\n"
     ]
    }
   ],
   "source": [
    "# Verifying the model details\n",
    "model_info = client.get_model_info()\n",
    "print(\"Model name:\", model_info.model_name)\n",
    "print(\"Model type:\", model_info.model_type)\n",
    "print(\"Model provider name:\", model_info.model_provider_name)"
   ]
  },
  {
   "cell_type": "markdown",
   "metadata": {},
   "source": [
    "### Streaming Completion"
   ]
  },
  {
   "cell_type": "code",
   "execution_count": 14,
   "metadata": {},
   "outputs": [
    {
     "name": "stdout",
     "output_type": "stream",
     "text": [
      "<think>\n",
      "Okay, let's try to figure out how to measure exactly 4 gallons using a 3-gallon jug and a 5-gallon jug. Hmm, I remember this might be a classic puzzle, but I need to work through it step by step.\n",
      "\n",
      "First, the goal is to get 4 gallons in one of the jugs. Let's start by thinking about the capacities. The jugs can hold 3 and 5 gallons respectively. Maybe the key is to fill one and pour into the other, keeping track of how much is left each time?\n",
      "\n",
      "Let me outline possible steps:\n",
      "\n",
      "1. Fill the 5-gallon jug to the top. Now it has 5 gallons. Then pour water from the 5-gallon jug into the 3-gallon jug until the 3-gallon is full. That would leave 5 - 3 = 2 gallons in the 5-gallon jug. Then, empty the 3-gallon jug and pour the remaining 2 gallons from the 5 into the 3. Now, the 3-gallon jug has 2 gallons, and the 5 is empty. Then fill the 5-gallon jug again, and pour water into the 3-gallon jug (which already has 2 gallons) until it's full. Since the 3-gallon can only take 1 more gallon, the 5-gallon jug would have 5 - 1 = 4 gallons left. That seems to work.\n",
      "\n",
      "Wait, let me verify each step:\n",
      "\n",
      "- Fill 5-gallon jug: 5G has 5, 3G has 0.\n",
      "- Pour into 3G: 5G now has 2, 3G has 3.\n",
      "- Empty 3G: 3G is 0.\n",
      "- Pour the 2 gallons from 5G to 3G: 5G is 0, 3G is 2.\n",
      "- Fill 5G again: 5G is 5, 3G is 2.\n",
      "- Pour from 5G into 3G until full: 3G can take 1 more, so 5G has 5 -1 =4. So now 5G has exactly 4. That's the answer.\n",
      "\n",
      "Alternatively, another approach: fill the 3-gallon jug first, pour into 5G. Repeat. Let's see:\n",
      "\n",
      "- Fill 3G: 3,0.\n",
      "- Pour into 5G: 0,3.\n",
      "- Fill 3G again: 3,3.\n",
      "- Pour into 5G until it's full. The 5G can take 2 more gallons, so after pouring, 3G would have 1 left (3-2=1), and 5G is full (5). Then empty 5G, pour the 1 gallon from 3G into 5G, then fill 3G again and pour into 5G. That would add 3 gallons to the 1 in 5G, making 4. But this seems longer. Wait, which method is correct?\n",
      "\n",
      "Wait, let me check the second method again:\n",
      "\n",
      "- Start with 3G: 3,0.\n",
      "- Pour into 5G: 0,3.\n",
      "- Fill 3G again: 3,3.\n",
      "- Pour into 5G until full: 5G can take 2 more, so 3G has 1 left (3-2=1), 5G is full (5). So now, empty 5G (0,1 left in 3G? No, the 3G has 1, 5G is emptied. Then pour the 1 from 3G into 5G: 0 in 3G, 1 in 5G. Then fill 3G again and pour into 5G: 0+3=3 in 5G. That's 1+3=4. So 5G now has 4. So both methods work. But the first method is fewer steps.\n",
      "\n",
      "So depending on the steps allowed, either approach works. The first method is probably the more straightforward one. Let me just confirm once more.\n",
      "\n",
      "First method steps:\n",
      "\n",
      "1. Fill 5G: 5,0.\n",
      "2. Pour into 3G: 2,3.\n",
      "3. Empty 3G: 2,0.\n",
      "4. Pour 2 into 3G: 0,2.\n",
      "5. Fill 5G:5,2.\n",
      "6. Pour from 5G into 3G until full: 3G can take 1 gallon, so 5G has 4 left. Exactly 4 gallons.\n",
      "\n",
      "Yes, that works. So the solution is the first method. Alternatively, the second method also gets"
     ]
    }
   ],
   "source": [
    "# Generating a completion\n",
    "response = client.complete(\n",
    "    messages = [\n",
    "        System_Message,\n",
    "        User_Message,\n",
    "    ],\n",
    "    max_tokens = 1000,\n",
    "    stream = True\n",
    ")\n",
    "\n",
    "print_stream(response)"
   ]
  }
 ],
 "metadata": {
  "kernelspec": {
   "display_name": "pyenv",
   "language": "python",
   "name": "python3"
  },
  "language_info": {
   "codemirror_mode": {
    "name": "ipython",
    "version": 3
   },
   "file_extension": ".py",
   "mimetype": "text/x-python",
   "name": "python",
   "nbconvert_exporter": "python",
   "pygments_lexer": "ipython3",
   "version": "3.12.9"
  }
 },
 "nbformat": 4,
 "nbformat_minor": 5
}
